{
  "nbformat": 4,
  "nbformat_minor": 0,
  "metadata": {
    "colab": {
      "provenance": [],
      "gpuType": "T4"
    },
    "kernelspec": {
      "name": "python3",
      "display_name": "Python 3"
    },
    "language_info": {
      "name": "python"
    },
    "accelerator": "GPU"
  },
  "cells": [
    {
      "cell_type": "markdown",
      "source": [
        "#Gradio + HuggingFace Spaces: A Tutorial\n",
        "\n",
        "\n",
        "Based on Dr. Tanishq Abraham's [blog](https://www.tanishq.ai/blog/posts/2021-11-16-gradio-huggingface.html) implement is it bird, plane or Superman on Gradio."
      ],
      "metadata": {
        "id": "chE_yflSxONx"
      }
    },
    {
      "cell_type": "markdown",
      "source": [
        "##Install Gradio\n",
        "Installation of Gradio work around taken from [here](https://discuss.huggingface.co/t/how-to-solve-this-problem-i-cant-implement-gradio/63706)"
      ],
      "metadata": {
        "id": "WLzqi7hCkmeQ"
      }
    },
    {
      "cell_type": "code",
      "source": [
        "!pip install -q gradio==3.45.0"
      ],
      "metadata": {
        "colab": {
          "base_uri": "https://localhost:8080/"
        },
        "id": "A2767WqzesTv",
        "outputId": "77aa40d2-bdd6-4509-bb37-4b5ede13bd83"
      },
      "execution_count": null,
      "outputs": [
        {
          "output_type": "stream",
          "name": "stdout",
          "text": [
            "\u001b[2K     \u001b[90m━━━━━━━━━━━━━━━━━━━━━━━━━━━━━━━━━━━━━━━━\u001b[0m \u001b[32m20.2/20.2 MB\u001b[0m \u001b[31m43.0 MB/s\u001b[0m eta \u001b[36m0:00:00\u001b[0m\n",
            "\u001b[2K     \u001b[90m━━━━━━━━━━━━━━━━━━━━━━━━━━━━━━━━━━━━━━━━\u001b[0m \u001b[32m92.0/92.0 kB\u001b[0m \u001b[31m9.2 MB/s\u001b[0m eta \u001b[36m0:00:00\u001b[0m\n",
            "\u001b[?25h  Preparing metadata (setup.py) ... \u001b[?25l\u001b[?25hdone\n",
            "\u001b[2K     \u001b[90m━━━━━━━━━━━━━━━━━━━━━━━━━━━━━━━━━━━━━━━━\u001b[0m \u001b[32m298.3/298.3 kB\u001b[0m \u001b[31m29.2 MB/s\u001b[0m eta \u001b[36m0:00:00\u001b[0m\n",
            "\u001b[2K     \u001b[90m━━━━━━━━━━━━━━━━━━━━━━━━━━━━━━━━━━━━━━━━\u001b[0m \u001b[32m75.9/75.9 kB\u001b[0m \u001b[31m5.1 MB/s\u001b[0m eta \u001b[36m0:00:00\u001b[0m\n",
            "\u001b[2K     \u001b[90m━━━━━━━━━━━━━━━━━━━━━━━━━━━━━━━━━━━━━━━━\u001b[0m \u001b[32m138.7/138.7 kB\u001b[0m \u001b[31m5.8 MB/s\u001b[0m eta \u001b[36m0:00:00\u001b[0m\n",
            "\u001b[2K     \u001b[90m━━━━━━━━━━━━━━━━━━━━━━━━━━━━━━━━━━━━━━━━\u001b[0m \u001b[32m45.7/45.7 kB\u001b[0m \u001b[31m5.5 MB/s\u001b[0m eta \u001b[36m0:00:00\u001b[0m\n",
            "\u001b[2K     \u001b[90m━━━━━━━━━━━━━━━━━━━━━━━━━━━━━━━━━━━━━━━━\u001b[0m \u001b[32m60.3/60.3 kB\u001b[0m \u001b[31m5.9 MB/s\u001b[0m eta \u001b[36m0:00:00\u001b[0m\n",
            "\u001b[2K     \u001b[90m━━━━━━━━━━━━━━━━━━━━━━━━━━━━━━━━━━━━━━━━\u001b[0m \u001b[32m129.9/129.9 kB\u001b[0m \u001b[31m5.2 MB/s\u001b[0m eta \u001b[36m0:00:00\u001b[0m\n",
            "\u001b[2K     \u001b[90m━━━━━━━━━━━━━━━━━━━━━━━━━━━━━━━━━━━━━━━━\u001b[0m \u001b[32m58.3/58.3 kB\u001b[0m \u001b[31m5.2 MB/s\u001b[0m eta \u001b[36m0:00:00\u001b[0m\n",
            "\u001b[2K     \u001b[90m━━━━━━━━━━━━━━━━━━━━━━━━━━━━━━━━━━━━━━━━\u001b[0m \u001b[32m70.0/70.0 kB\u001b[0m \u001b[31m5.1 MB/s\u001b[0m eta \u001b[36m0:00:00\u001b[0m\n",
            "\u001b[2K     \u001b[90m━━━━━━━━━━━━━━━━━━━━━━━━━━━━━━━━━━━━━━━━\u001b[0m \u001b[32m76.9/76.9 kB\u001b[0m \u001b[31m8.7 MB/s\u001b[0m eta \u001b[36m0:00:00\u001b[0m\n",
            "\u001b[?25h  Building wheel for ffmpy (setup.py) ... \u001b[?25l\u001b[?25hdone\n",
            "\u001b[31mERROR: pip's dependency resolver does not currently take into account all the packages that are installed. This behaviour is the source of the following dependency conflicts.\n",
            "lida 0.0.10 requires kaleido, which is not installed.\n",
            "tensorflow-probability 0.22.0 requires typing-extensions<4.6.0, but you have typing-extensions 4.9.0 which is incompatible.\u001b[0m\u001b[31m\n",
            "\u001b[0m"
          ]
        }
      ]
    },
    {
      "cell_type": "code",
      "source": [
        "import gradio as gr"
      ],
      "metadata": {
        "id": "ZvlXidNZnlJh"
      },
      "execution_count": null,
      "outputs": []
    },
    {
      "cell_type": "markdown",
      "source": [
        "##Install and import Fast.ai"
      ],
      "metadata": {
        "id": "exQVEqriv5AQ"
      }
    },
    {
      "cell_type": "code",
      "source": [
        "! [ -e /content ] && pip install -Uqq fastbook\n",
        "import fastbook"
      ],
      "metadata": {
        "colab": {
          "base_uri": "https://localhost:8080/"
        },
        "id": "tE1FoTUVv1zD",
        "outputId": "3062546f-75e9-4fab-b965-ae3d67e0b6f1"
      },
      "execution_count": null,
      "outputs": [
        {
          "output_type": "stream",
          "name": "stdout",
          "text": [
            "\u001b[2K     \u001b[90m━━━━━━━━━━━━━━━━━━━━━━━━━━━━━━━━━━━━━━━━\u001b[0m \u001b[32m719.8/719.8 kB\u001b[0m \u001b[31m6.7 MB/s\u001b[0m eta \u001b[36m0:00:00\u001b[0m\n",
            "\u001b[2K     \u001b[90m━━━━━━━━━━━━━━━━━━━━━━━━━━━━━━━━━━━━━━━━\u001b[0m \u001b[32m507.1/507.1 kB\u001b[0m \u001b[31m11.5 MB/s\u001b[0m eta \u001b[36m0:00:00\u001b[0m\n",
            "\u001b[2K     \u001b[90m━━━━━━━━━━━━━━━━━━━━━━━━━━━━━━━━━━━━━━━━\u001b[0m \u001b[32m1.3/1.3 MB\u001b[0m \u001b[31m17.2 MB/s\u001b[0m eta \u001b[36m0:00:00\u001b[0m\n",
            "\u001b[2K     \u001b[90m━━━━━━━━━━━━━━━━━━━━━━━━━━━━━━━━━━━━━━━━\u001b[0m \u001b[32m115.3/115.3 kB\u001b[0m \u001b[31m17.4 MB/s\u001b[0m eta \u001b[36m0:00:00\u001b[0m\n",
            "\u001b[2K     \u001b[90m━━━━━━━━━━━━━━━━━━━━━━━━━━━━━━━━━━━━━━━━\u001b[0m \u001b[32m134.8/134.8 kB\u001b[0m \u001b[31m20.1 MB/s\u001b[0m eta \u001b[36m0:00:00\u001b[0m\n",
            "\u001b[2K     \u001b[90m━━━━━━━━━━━━━━━━━━━━━━━━━━━━━━━━━━━━━━━━\u001b[0m \u001b[32m1.6/1.6 MB\u001b[0m \u001b[31m23.8 MB/s\u001b[0m eta \u001b[36m0:00:00\u001b[0m\n",
            "\u001b[?25h"
          ]
        }
      ]
    },
    {
      "cell_type": "code",
      "source": [
        "from fastai.vision.all import *"
      ],
      "metadata": {
        "id": "lgKQfVzOvVfM"
      },
      "execution_count": null,
      "outputs": []
    },
    {
      "cell_type": "markdown",
      "source": [
        "##Using Gradio\n",
        "\n",
        "Ensure follow of `02c_is-it-a-bird-plane-superman-with-cleaning-augmentation-and-export.ipyn` are upload to root drive of this Colab:\n",
        "\n",
        "\n",
        "*   `model.pkl`\n",
        "*   hummingbird.jpg\n",
        "*   f16.jpg\n",
        "*   superman.jpeg\n",
        "\n",
        "If you have different example images, please upload accordingly and do change the `examples` list with the corresponding image files name.\n",
        "\n",
        "\n",
        "\n",
        "\n"
      ],
      "metadata": {
        "id": "1NaOczGAc9xH"
      }
    },
    {
      "cell_type": "markdown",
      "source": [
        "![colab_model_pkl3.png](data:image/png;base64,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)"
      ],
      "metadata": {
        "id": "XOGzsYdY0-pg"
      }
    },
    {
      "cell_type": "code",
      "source": [
        "learn = load_learner('model.pkl')"
      ],
      "metadata": {
        "id": "9QOb-DnDdhSy"
      },
      "execution_count": null,
      "outputs": []
    },
    {
      "cell_type": "code",
      "source": [
        "labels = learn.dls.vocab\n",
        "def predict(img):\n",
        "    img = PILImage.create(img)\n",
        "    pred,pred_idx,probs = learn.predict(img)\n",
        "    return {labels[i]: float(probs[i]) for i in range(len(labels))}"
      ],
      "metadata": {
        "id": "2c2haKwOdjtu"
      },
      "execution_count": null,
      "outputs": []
    },
    {
      "cell_type": "code",
      "source": [
        "title = \"Is it a bird, a plane or Superman Classifier\"\n",
        "description = \"This classifier trained on the web crawled images dataset of birds, F16 and Superman with fastai. Created as a demo for Gradio and HuggingFace Spaces.\"\n",
        "article=\"<p style='text-align: center'><a href='https://tmabraham.github.io/blog/gradio_hf_spaces_tutorial' target='_blank'>Dr. Tanishq Abraham Blog post</a></p>\"\n",
        "examples = ['hummingbird.jpg', 'f16.jpg', 'superman.jpeg'] # change these example images if you have different ones\n",
        "interpretation='default'\n",
        "enable_queue=True\n",
        "\n",
        "gr.Interface(fn=predict,inputs=gr.inputs.Image(shape=(512, 512)),outputs=gr.outputs.Label(num_top_classes=3),title=title,description=description,article=article,examples=examples,interpretation=interpretation,enable_queue=enable_queue).launch()"
      ],
      "metadata": {
        "colab": {
          "base_uri": "https://localhost:8080/",
          "height": 822
        },
        "id": "nEYgmyXXy-xB",
        "outputId": "d9049e61-555d-42e6-f870-fcf532a4beaa"
      },
      "execution_count": null,
      "outputs": [
        {
          "output_type": "stream",
          "name": "stderr",
          "text": [
            "<ipython-input-7-bfc170127871>:8: GradioDeprecationWarning: Usage of gradio.inputs is deprecated, and will not be supported in the future, please import your component from gradio.components\n",
            "  gr.Interface(fn=predict,inputs=gr.inputs.Image(shape=(512, 512)),outputs=gr.outputs.Label(num_top_classes=3),title=title,description=description,article=article,examples=examples,interpretation=interpretation,enable_queue=enable_queue).launch()\n",
            "<ipython-input-7-bfc170127871>:8: GradioDeprecationWarning: `optional` parameter is deprecated, and it has no effect\n",
            "  gr.Interface(fn=predict,inputs=gr.inputs.Image(shape=(512, 512)),outputs=gr.outputs.Label(num_top_classes=3),title=title,description=description,article=article,examples=examples,interpretation=interpretation,enable_queue=enable_queue).launch()\n",
            "<ipython-input-7-bfc170127871>:8: GradioDeprecationWarning: Usage of gradio.outputs is deprecated, and will not be supported in the future, please import your components from gradio.components\n",
            "  gr.Interface(fn=predict,inputs=gr.inputs.Image(shape=(512, 512)),outputs=gr.outputs.Label(num_top_classes=3),title=title,description=description,article=article,examples=examples,interpretation=interpretation,enable_queue=enable_queue).launch()\n",
            "<ipython-input-7-bfc170127871>:8: GradioUnusedKwargWarning: You have unused kwarg parameters in Label, please remove them: {'type': 'auto'}\n",
            "  gr.Interface(fn=predict,inputs=gr.inputs.Image(shape=(512, 512)),outputs=gr.outputs.Label(num_top_classes=3),title=title,description=description,article=article,examples=examples,interpretation=interpretation,enable_queue=enable_queue).launch()\n",
            "<ipython-input-7-bfc170127871>:8: GradioDeprecationWarning: `enable_queue` is deprecated in `Interface()`, please use it within `launch()` instead.\n",
            "  gr.Interface(fn=predict,inputs=gr.inputs.Image(shape=(512, 512)),outputs=gr.outputs.Label(num_top_classes=3),title=title,description=description,article=article,examples=examples,interpretation=interpretation,enable_queue=enable_queue).launch()\n"
          ]
        },
        {
          "output_type": "stream",
          "name": "stdout",
          "text": [
            "Colab notebook detected. To show errors in colab notebook, set debug=True in launch()\n",
            "Note: opening Chrome Inspector may crash demo inside Colab notebooks.\n",
            "\n",
            "To create a public link, set `share=True` in `launch()`.\n"
          ]
        },
        {
          "output_type": "display_data",
          "data": {
            "text/plain": [
              "<IPython.core.display.Javascript object>"
            ],
            "application/javascript": [
              "(async (port, path, width, height, cache, element) => {\n",
              "                        if (!google.colab.kernel.accessAllowed && !cache) {\n",
              "                            return;\n",
              "                        }\n",
              "                        element.appendChild(document.createTextNode(''));\n",
              "                        const url = await google.colab.kernel.proxyPort(port, {cache});\n",
              "\n",
              "                        const external_link = document.createElement('div');\n",
              "                        external_link.innerHTML = `\n",
              "                            <div style=\"font-family: monospace; margin-bottom: 0.5rem\">\n",
              "                                Running on <a href=${new URL(path, url).toString()} target=\"_blank\">\n",
              "                                    https://localhost:${port}${path}\n",
              "                                </a>\n",
              "                            </div>\n",
              "                        `;\n",
              "                        element.appendChild(external_link);\n",
              "\n",
              "                        const iframe = document.createElement('iframe');\n",
              "                        iframe.src = new URL(path, url).toString();\n",
              "                        iframe.height = height;\n",
              "                        iframe.allow = \"autoplay; camera; microphone; clipboard-read; clipboard-write;\"\n",
              "                        iframe.width = width;\n",
              "                        iframe.style.border = 0;\n",
              "                        element.appendChild(iframe);\n",
              "                    })(7860, \"/\", \"100%\", 500, false, window.element)"
            ]
          },
          "metadata": {}
        },
        {
          "output_type": "execute_result",
          "data": {
            "text/plain": []
          },
          "metadata": {},
          "execution_count": 7
        }
      ]
    }
  ]
}